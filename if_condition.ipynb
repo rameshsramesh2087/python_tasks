{
 "cells": [
  {
   "cell_type": "markdown",
   "id": "af354468",
   "metadata": {},
   "source": [
    "Write a Python program to check whether a given number is even or odd.\n",
    "i\n"
   ]
  },
  {
   "cell_type": "code",
   "execution_count": 1,
   "id": "ae56d400",
   "metadata": {},
   "outputs": [
    {
     "name": "stdout",
     "output_type": "stream",
     "text": [
      "33 odd number\n"
     ]
    }
   ],
   "source": [
    "a=int(input('enter your number:'))\n",
    "if a%2==0:\n",
    "    print(a,'even number')\n",
    "elif a%2!=0:\n",
    "    print(a,'odd number')\n",
    "else:\n",
    "    print('invalid')\n",
    "            \n",
    " "
   ]
  },
  {
   "cell_type": "markdown",
   "id": "ee6d857f",
   "metadata": {},
   "source": [
    "Take a user’s age as input and print “Eligible to Vote” if age ≥ 18, else print “Not Eligible”.\n"
   ]
  },
  {
   "cell_type": "code",
   "execution_count": 3,
   "id": "88f120b4",
   "metadata": {},
   "outputs": [
    {
     "name": "stdout",
     "output_type": "stream",
     "text": [
      "you are not eligible for vote\n"
     ]
    }
   ],
   "source": [
    "a=int(input('enter your age:'))\n",
    "if a>=18:\n",
    "    print('your are eligible for vote')\n",
    "elif a<18:\n",
    "    print('you are not eligible for vote')    \n",
    "else:\n",
    "    print('invalid content')    "
   ]
  },
  {
   "cell_type": "markdown",
   "id": "8f571cd7",
   "metadata": {},
   "source": [
    "Write a program to check whether a given number is positive, negative, or zero"
   ]
  },
  {
   "cell_type": "code",
   "execution_count": 5,
   "id": "eff76d60",
   "metadata": {},
   "outputs": [
    {
     "name": "stdout",
     "output_type": "stream",
     "text": [
      "-20 negative number\n"
     ]
    }
   ],
   "source": [
    "b=int(input('enter your number:'))\n",
    "if b>=0 :\n",
    "    print(b,'positive number')\n",
    "elif b<0:\n",
    "    print(b,'negative number')\n",
    "else:\n",
    "    ('invalid')        \n"
   ]
  },
  {
   "cell_type": "markdown",
   "id": "f9fdef89",
   "metadata": {},
   "source": [
    "Take two numbers from the user and print the largest one using an if condition.\n"
   ]
  },
  {
   "cell_type": "code",
   "execution_count": 6,
   "id": "75a0772b",
   "metadata": {},
   "outputs": [
    {
     "name": "stdout",
     "output_type": "stream",
     "text": [
      "num2 is grater than num1\n"
     ]
    }
   ],
   "source": [
    "num1=int(input('enter number:'))\n",
    "num2=int(input('enter number:'))\n",
    "if num1>num2:\n",
    "    print('num1 is grater than num2')\n",
    "elif num1<num2:\n",
    "    print('num2 is grater than num1')\n",
    "elif num1==num2:\n",
    "    print('equal two')\n",
    "else:\n",
    "    print('invalid')            "
   ]
  },
  {
   "cell_type": "markdown",
   "id": "a9ccebe2",
   "metadata": {},
   "source": [
    "Write a program to check if a given year is a leap year or not.\n"
   ]
  },
  {
   "cell_type": "code",
   "execution_count": 10,
   "id": "87073b94",
   "metadata": {},
   "outputs": [
    {
     "name": "stdout",
     "output_type": "stream",
     "text": [
      "2025 not leap year\n"
     ]
    }
   ],
   "source": [
    "year=int(input('enter year:'))\n",
    "if year%4==0:\n",
    "    print(year,'leap year')\n",
    "else:\n",
    "    print(year,'not leap year')    "
   ]
  },
  {
   "cell_type": "markdown",
   "id": "8e17026d",
   "metadata": {},
   "source": [
    "Write a program that takes a number as input and prints whether it is divisible by both 3 and 5, only by 3, only by 5, or not divisible by 3 or 5.\n"
   ]
  },
  {
   "cell_type": "code",
   "execution_count": 14,
   "id": "4289b8ad",
   "metadata": {},
   "outputs": [
    {
     "name": "stdout",
     "output_type": "stream",
     "text": [
      "30 divisible 3 and 5\n"
     ]
    }
   ],
   "source": [
    "c=int(input('enter your number:'))\n",
    "if c%3==0 and c%5==0:\n",
    "    print(c,'divisible 3 and 5')\n",
    "elif c%3==0 :\n",
    "    print(c,'divisible 3')\n",
    "elif c%5==0:\n",
    "    print(c,'divisible 5') \n",
    "else:\n",
    "    ('not divisible 3 and 5')           "
   ]
  },
  {
   "cell_type": "markdown",
   "id": "359762ad",
   "metadata": {},
   "source": [
    "A shop gives a 10% discount if the bill amount is more than 1000. Write a program to calculate the discount and final price.\n"
   ]
  },
  {
   "cell_type": "code",
   "execution_count": 15,
   "id": "ecc87d85",
   "metadata": {},
   "outputs": [
    {
     "name": "stdout",
     "output_type": "stream",
     "text": [
      "your purchase amount2000,discount amount200.0,your pay amount1800.0\n"
     ]
    }
   ],
   "source": [
    "c=int(input('enter your purchase amount :'))\n",
    "if c<1000:\n",
    "    print('sorry you are bot eligible for discount')\n",
    "elif c>=1000:\n",
    "    b=c/10\n",
    "    print(f'your purchase amount{c},discount amount{b},your pay amount{c-b}')    "
   ]
  },
  {
   "cell_type": "markdown",
   "id": "8b6010aa",
   "metadata": {},
   "source": [
    "Take a student’s mark as input and print the grade based on conditions:\n",
    "\n",
    "\n",
    "91–100 → O\n",
    "\n",
    "\n",
    "81–90 → A+\n",
    "\n",
    "\n",
    "71–80 → A\n",
    "\n",
    "\n",
    "61–70 → B+\n",
    "\n",
    "\n",
    "50–60 → B\n",
    "\n",
    "\n",
    "Below 50 → U\n",
    "\n",
    "\n"
   ]
  },
  {
   "cell_type": "code",
   "execution_count": 16,
   "id": "5107c010",
   "metadata": {},
   "outputs": [
    {
     "name": "stdout",
     "output_type": "stream",
     "text": [
      "30 your grade \"U\"\n"
     ]
    }
   ],
   "source": [
    "c=int(input('enter grade :'))\n",
    "if c>91 and c<=100:\n",
    "    print(c,'your grade \"O\"')\n",
    "elif c>=81 and c<=90:\n",
    "    print(c,'your grade \"A+\"') \n",
    "elif c>=71 and c<=80:\n",
    "    print(c,'your grade \"A\"')\n",
    "elif c>=61 and c<=70:\n",
    "    print(c,'your grade \"B+\"')\n",
    "elif c>=50 and c<=60:\n",
    "    print(c,'your grade \"B\"')\n",
    "else:\n",
    "    print(c,'your grade \"U\"')              "
   ]
  },
  {
   "cell_type": "code",
   "execution_count": null,
   "id": "b73641f9",
   "metadata": {},
   "outputs": [],
   "source": []
  }
 ],
 "metadata": {
  "kernelspec": {
   "display_name": "base",
   "language": "python",
   "name": "python3"
  },
  "language_info": {
   "codemirror_mode": {
    "name": "ipython",
    "version": 3
   },
   "file_extension": ".py",
   "mimetype": "text/x-python",
   "name": "python",
   "nbconvert_exporter": "python",
   "pygments_lexer": "ipython3",
   "version": "3.12.7"
  }
 },
 "nbformat": 4,
 "nbformat_minor": 5
}
